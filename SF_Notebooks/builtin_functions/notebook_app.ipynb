{
 "metadata": {
  "kernelspec": {
   "display_name": "Streamlit Notebook",
   "name": "streamlit"
  }
 },
 "nbformat_minor": 5,
 "nbformat": 4,
 "cells": [
  {
   "cell_type": "code",
   "id": "8d50cbf4-0c8d-4950-86cb-114990437ac9",
   "metadata": {
    "language": "sql",
    "name": "cell2"
   },
   "source": "USE DATABASE SNOWFLAKE_SAMPLE_DATA;\nUSE SCHEMA TPCH_SF1;",
   "execution_count": null,
   "outputs": []
  },
  {
   "cell_type": "code",
   "id": "c77168db-f955-41c5-a62d-a4a1cd93bc43",
   "metadata": {
    "language": "sql",
    "name": "cell3"
   },
   "outputs": [],
   "source": "Select * from orders limit 2;",
   "execution_count": null
  },
  {
   "cell_type": "code",
   "id": "90cdd222-a529-44a2-b90d-b7b245821439",
   "metadata": {
    "language": "sql",
    "name": "GROUP_BY_ALL"
   },
   "outputs": [],
   "source": "SELECT \n    O_CUSTKEY        \n    ,O_ORDERSTATUS\n    ,O_ORDERPRIORITY\n    ,SUM(O_TOTALPRICE) as PRICE\nFROM ORDERS \nGROUP BY O_CUSTKEY, O_ORDERSTATUS, O_ORDERPRIORITY\nORDER BY PRICE DESC\nlimit 2;",
   "execution_count": null
  },
  {
   "cell_type": "code",
   "id": "b08c96ad-3459-4ebe-b72c-af50ff996644",
   "metadata": {
    "language": "sql",
    "name": "GROUP_BY_ALL2"
   },
   "outputs": [],
   "source": "SELECT \n    O_CUSTKEY        \n    ,O_ORDERSTATUS\n    , O_ORDERPRIORITY\n    ,SUM(O_TOTALPRICE) as PRICE\nFROM ORDERS \nGROUP BY ALL\nORDER BY PRICE DESC\nlimit 2;",
   "execution_count": null
  },
  {
   "cell_type": "code",
   "id": "8eda075d-adef-45a9-8b6a-5d4fbc40165c",
   "metadata": {
    "language": "sql",
    "name": "QUALIFY"
   },
   "outputs": [],
   "source": "-- Problem: Need for defining Subquery or CTE to filter out subset of window function.\nWITH CTE_ORDERS AS (\nSELECT \n    O_CUSTKEY\n    , O_TOTALPRICE\n    ,RANK() OVER (PARTITION BY O_CUSTKEY ORDER BY O_TOTALPRICE DESC) as top_customer_order\nFROM ORDERS \n)\nSELECT *\nFROM CTE_ORDERS\nwhere top_customer_order = 1\nlimit 3;",
   "execution_count": null
  },
  {
   "cell_type": "code",
   "id": "49a9428e-873d-4fab-b6e3-0c98d18487c5",
   "metadata": {
    "language": "sql",
    "name": "QUALIFY2"
   },
   "outputs": [],
   "source": "-- Problem: Need to define Subquery or CTE to filter out subset of window function.\nSELECT \n    O_CUSTKEY\n    , O_TOTALPRICE\n    ,RANK() OVER (PARTITION BY O_CUSTKEY ORDER BY O_TOTALPRICE DESC) as top_customer_order\nFROM ORDERS \nQUALIFY top_customer_order = 1\nlimit 3;\n-- Use ORDER BY with LIMIT for deterministic results",
   "execution_count": null
  },
  {
   "cell_type": "code",
   "id": "0a9c7b7d-2de9-4a0b-869d-65b52274bde2",
   "metadata": {
    "language": "sql",
    "name": "LIKE_ANY"
   },
   "outputs": [],
   "source": "-- Problem: Find different patterns for the same column.\nSELECT * \nFROM CUSTOMER\nWHERE C_PHONE LIKE ('%678%') OR C_PHONE LIKE ('%172%')\nLIMIT 2;",
   "execution_count": null
  },
  {
   "cell_type": "code",
   "id": "f5804195-0338-411b-babe-b22af4d170be",
   "metadata": {
    "language": "sql",
    "name": "LIKE_ANY2"
   },
   "outputs": [],
   "source": "SELECT * \nFROM CUSTOMER\nWHERE C_PHONE LIKE ANY ('%678%', '%172%') \nLIMIT 2;",
   "execution_count": null
  },
  {
   "cell_type": "code",
   "id": "97a337d2-caef-4eb8-904e-0fe249b1a153",
   "metadata": {
    "language": "sql",
    "name": "ILIKE"
   },
   "outputs": [],
   "source": "-- Problem: Use UPPER or LOWER to compare strings.\nSELECT * \nFROM CUSTOMER\nWHERE UPPER(C_MKTSEGMENT) LIKE UPPER('HOUSE%')\nLIMIT 2;",
   "execution_count": null
  },
  {
   "cell_type": "code",
   "id": "f6ec6084-c8dc-4979-9f37-368d3a70202c",
   "metadata": {
    "language": "sql",
    "name": "ILIKE2"
   },
   "outputs": [],
   "source": "SELECT * \nFROM CUSTOMER\nWHERE C_MKTSEGMENT ILIKE 'HOUSE%'\nLIMIT 2;",
   "execution_count": null
  },
  {
   "cell_type": "code",
   "id": "13274b42-5b13-492b-b535-00ba4f3c587f",
   "metadata": {
    "language": "sql",
    "name": "Duplicated_functions"
   },
   "outputs": [],
   "source": "-- Problem: Different functions between SQL dialects\nSELECT NVL(NULL, 'NVL'), IFNULL(NULL, 'IFNULL');",
   "execution_count": null
  },
  {
   "cell_type": "code",
   "id": "9b02af83-771c-432d-896f-d28520b22e1f",
   "metadata": {
    "language": "sql",
    "name": "cell4"
   },
   "outputs": [],
   "source": "SELECT CAST(123 as varchar), TO_VARCHAR(123), 123::varchar;",
   "execution_count": null
  },
  {
   "cell_type": "code",
   "id": "9acc4ba5-f7db-4b22-80bf-fb55d74df502",
   "metadata": {
    "language": "sql",
    "name": "EQUAL_NULL"
   },
   "outputs": [],
   "source": "-- Problem: Compare values, when NULL can appear\nSELECT 1=1, 1=2, 1=NULL;",
   "execution_count": null
  },
  {
   "cell_type": "code",
   "id": "607c54ea-36f2-4df3-b795-647d0f7f9893",
   "metadata": {
    "language": "sql",
    "name": "cell5"
   },
   "outputs": [],
   "source": "SELECT EQUAL_NULL(1,1), EQUAL_NULL(1,2), EQUAL_NULL(1,NULL);",
   "execution_count": null
  },
  {
   "cell_type": "code",
   "id": "161da330-1089-4684-bf33-249191af1a6b",
   "metadata": {
    "language": "sql",
    "name": "TRANSLATE_VS_REPLACE"
   },
   "outputs": [],
   "source": "-- Problem: Translating characters between different languages\nSELECT REPLACE(REPLACE(REPLACE('XWHAT A NIYCE STRZING!', 'XW'), 'Y'), 'Z');",
   "execution_count": null
  },
  {
   "cell_type": "code",
   "id": "7a213287-5fac-4078-ae43-d394c0dcb54d",
   "metadata": {
    "language": "sql",
    "name": "cell1"
   },
   "outputs": [],
   "source": "SELECT TRANSLATE('XWHAT A NIYCE STRZING!', 'XYZ', '');",
   "execution_count": null
  },
  {
   "cell_type": "code",
   "id": "6c722a16-a994-4290-aadc-aa7b9554feab",
   "metadata": {
    "language": "sql",
    "name": "cell6"
   },
   "outputs": [],
   "source": "SELECT TRANSLATE('Me acosté a las dos de la mañana', 'éñ', 'en');",
   "execution_count": null
  },
  {
   "cell_type": "code",
   "id": "82d599e8-5bd3-49b3-91d8-c5eba6815335",
   "metadata": {
    "language": "sql",
    "name": "COUNT_IF"
   },
   "outputs": [],
   "source": "SELECT\n    COUNT(CASE WHEN C_NATIONKEY = 14 THEN 0 END) as count_field_14\n    ,COUNT(CASE WHEN C_NATIONKEY = 15 THEN 0 END) as count_field_15\n    ,COUNT(CASE WHEN C_NATIONKEY = 16 THEN 0 END) as count_field_16\nFROM CUSTOMER\nlimit 3;",
   "execution_count": null
  },
  {
   "cell_type": "code",
   "id": "8ec7c407-5476-492c-8232-9a519d7f9554",
   "metadata": {
    "language": "sql",
    "name": "cell7"
   },
   "outputs": [],
   "source": "SELECT\n    COUNT_IF(C_NATIONKEY = 14) as count_field\n    ,COUNT_IF(C_NATIONKEY = 15) as count_field\n    ,COUNT_IF(C_NATIONKEY = 16) as count_field\nFROM CUSTOMER\nlimit 3;",
   "execution_count": null
  }
 ]
}